{
 "cells": [
  {
   "cell_type": "markdown",
   "metadata": {},
   "source": [
    "# Human Presence Detection Training using Tensorflow\n"
   ]
  },
  {
   "cell_type": "markdown",
   "metadata": {},
   "source": [
    "#### Click on \"Kernel -> Restart & Run All\" to start\n",
    "#### Click on \"Kernel -> Shutdown\" before closing the window"
   ]
  },
  {
   "cell_type": "code",
   "execution_count": 1,
   "metadata": {},
   "outputs": [
    {
     "data": {
      "text/html": [
       "<script>\n",
       "code_show=true;\n",
       "function code_toggle() {\n",
       " if (code_show){\n",
       " $('div.input').hide();\n",
       " } else {\n",
       " $('div.input').show();\n",
       " }\n",
       " code_show = !code_show\n",
       "}\n",
       "$( document ).ready(code_toggle);\n",
       "</script>\n",
       "<form action=\"javascript:code_toggle()\"><input type=\"submit\" value=\"Click here to toggle on/off the raw code.\"></form>"
      ],
      "text/plain": [
       "<IPython.core.display.HTML object>"
      ]
     },
     "execution_count": 1,
     "metadata": {},
     "output_type": "execute_result"
    }
   ],
   "source": [
    "from IPython.display import HTML\n",
    "\n",
    "HTML('''<script>\n",
    "code_show=true;\n",
    "function code_toggle() {\n",
    " if (code_show){\n",
    " $('div.input').hide();\n",
    " } else {\n",
    " $('div.input').show();\n",
    " }\n",
    " code_show = !code_show\n",
    "}\n",
    "$( document ).ready(code_toggle);\n",
    "</script>\n",
    "<form action=\"javascript:code_toggle()\"><input type=\"submit\" value=\"Click here to toggle on/off the raw code.\"></form>''')"
   ]
  },
  {
   "cell_type": "code",
   "execution_count": 2,
   "metadata": {},
   "outputs": [],
   "source": [
    "import yaml\n",
    "import os\n",
    "from collections import OrderedDict \n",
    "config_data = OrderedDict()\n",
    "config_file = os.path.join(os.environ['CONFIG_FILE'], \"config.txt\")\n",
    "if os.path.isfile(config_file):\n",
    "    with open(config_file) as fp:\n",
    "        config_data = yaml.load(fp.read(), Loader=yaml.FullLoader)\n",
    "else:\n",
    "    config_data[\"data_path\"] = None\n",
    "    config_data[\"train_path\"] = None\n",
    "    config_data[\"summary_step\"] = \"100\"\n",
    "    config_data[\"checkpoint_step\"] = \"500\"\n",
    "    config_data[\"max_steps\"] = \"250000\""
   ]
  },
  {
   "cell_type": "markdown",
   "metadata": {},
   "source": [
    "### Path to user's dataset\n",
    "#### The volume which is shared by the host to docker environment should contain the dataset and train logs directory.\n",
    "#### Note that the dataset should be in KITTI format. Images and labels should be arranged as follows:\n",
    " - __Training Images:__ 'data_path'/training/images\n",
    " - __Labels:__ 'data_path'/training/labels\n",
    " - __train.txt:__'data_path'/ImageSets/train.txt\n",
    " \n",
    "#### Click the following \"Select dataset path\" button to select dataset path from your shared directory in docker environment. The path of shared folder in docker environment will same be as that in host machine."
   ]
  },
  {
   "cell_type": "code",
   "execution_count": 3,
   "metadata": {},
   "outputs": [
    {
     "data": {
      "application/vnd.jupyter.widget-view+json": {
       "model_id": "8f96946b49d044d1bd7c687f2c97bc32",
       "version_major": 2,
       "version_minor": 0
      },
      "text/plain": [
       "HBox(children=(Text(value='', layout=Layout(width='30%')), SelectPathButton(description='Select dataset path',…"
      ]
     },
     "metadata": {},
     "output_type": "display_data"
    }
   ],
   "source": [
    "from ipywidgets import widgets\n",
    "from IPython.display import display\n",
    "from tkinter import Tk, filedialog\n",
    "data_dir = None\n",
    "\n",
    "class SelectPathButton(widgets.Button):\n",
    "    \"\"\"A file widget that leverages tkinter.filedialog.\"\"\"\n",
    "    def __init__(self):\n",
    "        super(SelectPathButton, self).__init__(layout=widgets.Layout(width='20%', height='30px'))\n",
    "        \n",
    "        self.description = \"Select dataset path\"\n",
    "        self.on_click(self.select_path)\n",
    "\n",
    "    @staticmethod\n",
    "    def select_path(b):\n",
    "        \"\"\"Generate instance of tkinter.filedialog.\n",
    "\n",
    "        Parameters\n",
    "        ----------\n",
    "        b : obj:\n",
    "            An instance of ipywidgets.widgets.Button \n",
    "        \"\"\"\n",
    "        # Create Tk root\n",
    "        root = Tk()\n",
    "        # Hide the main window\n",
    "        root.withdraw()\n",
    "        # Raise the root to the top of all windows.\n",
    "        root.call('wm', 'attributes', '.', '-topmost', True)\n",
    "        # List of selected fileswill be set to b.value\n",
    "        b.files = filedialog.askdirectory(initialdir = \"/\")\n",
    "        if b.files != ():\n",
    "            global data_dir\n",
    "            data_dir = b.files\n",
    "            path.value = data_dir\n",
    "            config_data[\"data_path\"] = data_dir\n",
    "            with open(config_file, 'w') as outf:\n",
    "                yaml.dump(config_data, outf, default_flow_style=False)\n",
    "                outf.close()\n",
    "        \n",
    "\n",
    "button = SelectPathButton()\n",
    "if config_data[\"data_path\"] is not None:\n",
    "    path = widgets.Text(layout=widgets.Layout(width='30%'), value=config_data[\"data_path\"])\n",
    "    data_dir = config_data[\"data_path\"]\n",
    "else:\n",
    "    path = widgets.Text(layout=widgets.Layout(width='30%'))\n",
    "\n",
    "widgets.HBox([path, button])"
   ]
  },
  {
   "cell_type": "markdown",
   "metadata": {},
   "source": [
    "### Training Configuration and Start Training\n",
    "#### User can customize the training parameters by changing the following values. \n",
    "1. __Train directory:__ The volume which is shared by host to docker environment should contain a train logs directory. Using the \"Select train directory\" button select that path from docker. The path of shared folder in docker environment will same be as that in host machine.\n",
    "2. __Summary steps:__ Number of steps to save summary\n",
    "3. __Checkpoint step:__ Number of steps to save checkpoint\n",
    "4. __Maximum steps:__ Maximum number of batches to run"
   ]
  },
  {
   "cell_type": "code",
   "execution_count": 4,
   "metadata": {},
   "outputs": [
    {
     "data": {
      "application/vnd.jupyter.widget-view+json": {
       "model_id": "72e9666523784bfc8944142b7c13470f",
       "version_major": 2,
       "version_minor": 0
      },
      "text/plain": [
       "HBox(children=(Text(value='/home/tanvi/projects/lattice/lattice_model_zoo/human_count/shared_folder/train_logs…"
      ]
     },
     "metadata": {},
     "output_type": "display_data"
    }
   ],
   "source": [
    "from ipywidgets import widgets\n",
    "from IPython.display import display\n",
    "from tkinter import Tk, filedialog\n",
    "train_dir = None\n",
    "class SelectPathButton(widgets.Button):\n",
    "    \"\"\"A file widget that leverages tkinter.filedialog.\"\"\"\n",
    "    def __init__(self):\n",
    "        super(SelectPathButton, self).__init__(layout=widgets.Layout(width='20%', height='30px'))\n",
    "        # Create the button.\n",
    "        self.description = \"Select train directory\"\n",
    "        self.on_click(self.select_path)\n",
    "\n",
    "    @staticmethod\n",
    "    def select_path(b):\n",
    "        \"\"\"Generate instance of tkinter.filedialog.\n",
    "\n",
    "        Parameters\n",
    "        ----------\n",
    "        b : obj:\n",
    "            An instance of ipywidgets.widgets.Button \n",
    "        \"\"\"\n",
    "        # Create Tk root\n",
    "        root = Tk()\n",
    "        # Hide the main window\n",
    "        root.withdraw()\n",
    "        # Raise the root to the top of all windows.\n",
    "        root.call('wm', 'attributes', '.', '-topmost', True)\n",
    "        # List of selected fileswill be set to b.value\n",
    "        b.files = filedialog.askdirectory(initialdir = \"/\")\n",
    "        if b.files != ():\n",
    "            global train_dir\n",
    "            train_dir = b.files\n",
    "            train_path.value = train_dir\n",
    "            config_data[\"train_path\"] = train_dir\n",
    "            with open(config_file, 'w') as outf:\n",
    "                yaml.dump(config_data, outf, default_flow_style=False)\n",
    "                outf.close()\n",
    "\n",
    "train_button = SelectPathButton()\n",
    "if config_data[\"train_path\"] is not None:\n",
    "    train_path = widgets.Text(layout=widgets.Layout(width='30%'), value=config_data[\"train_path\"])\n",
    "    train_dir = config_data[\"train_path\"]\n",
    "else:\n",
    "    train_path = widgets.Text(layout=widgets.Layout(width='30%'))\n",
    "\n",
    "widgets.HBox([train_path, train_button])"
   ]
  },
  {
   "cell_type": "code",
   "execution_count": 5,
   "metadata": {},
   "outputs": [
    {
     "data": {
      "application/vnd.jupyter.widget-view+json": {
       "model_id": "c2ce9a06192248899fd833e043f61c8b",
       "version_major": 2,
       "version_minor": 0
      },
      "text/plain": [
       "VBox(children=(HBox(children=(VBox(children=(Text(value='100', description='Summary steps', layout=Layout(widt…"
      ]
     },
     "metadata": {},
     "output_type": "display_data"
    }
   ],
   "source": [
    "import ipywidgets as widgets\n",
    "from IPython.display import display, clear_output\n",
    "import subprocess \n",
    "\n",
    "style = {'description_width': '100px'}\n",
    "layout = {'width': '400px'}\n",
    "\n",
    "summaryStep = widgets.Text(description = 'Summary steps',value = \"100\", disabled=False, style=style, layout=layout)\n",
    "checkpointStep = widgets.Text(description = 'Checkpoint Step',value = \"500\", disabled=False, style=style, layout=layout)\n",
    "maxSteps = widgets.Text(description = 'Maximum Steps',value = \"250000\", disabled=False, style=style, layout=layout)\n",
    "gpu_id = widgets.Text(description = 'GPU Id',value = \"\", disabled=False, style=style, layout=layout)\n",
    "\n",
    "run_training_button = widgets.Button(description=\"Run Training\", layout=widgets.Layout(width='20%', height='50px'))\n",
    "training_out = widgets.Output()\n",
    "\n",
    "def on_button_clicked(_):\n",
    "    with training_out:\n",
    "        clear_output()\n",
    "        if train_dir is not None and data_dir is not None:\n",
    "            run_training_button.disabled=True\n",
    "            summary_step = int(summaryStep.value)\n",
    "            checkpoint_step = int(checkpointStep.value)\n",
    "            max_steps = int(maxSteps.value)\n",
    "            if gpu_id.value != \"\":\n",
    "                gpu = int(gpu_id.value)\n",
    "            else:\n",
    "                gpu = -1\n",
    "            print('\\033[1m' + \"To stop the running training, click Kernel->Interrupt option from menubar\")\n",
    "            print('\\033[0m')\n",
    "            if gpu >= 0:\n",
    "                !python src/train.py --dataset 'KITTI' --net 'squeezeDet' --data_path $data_dir --train_dir $train_dir --image_set 'train' --summary_step $summary_step --max_steps $max_steps --checkpoint_step $checkpoint_step --gpu $gpu\n",
    "            else:\n",
    "                !python src/train.py --dataset 'KITTI' --net 'squeezeDet' --data_path $data_dir --train_dir $train_dir --image_set 'train' --summary_step $summary_step --max_steps $max_steps --checkpoint_step $checkpoint_step\n",
    "            run_training_button.disabled=False \n",
    "            with open(config_file, 'w') as outf:\n",
    "                config_data[\"summary_step\"] = str(summary_step)\n",
    "                config_data[\"checkpoint_step\"] = str(checkpoint_step)\n",
    "                config_data[\"max_steps\"] = str(max_steps)\n",
    "                yaml.dump(config_data, outf, default_flow_style=False)\n",
    "                outf.close()\n",
    "        else:\n",
    "            print(\"Please select dataset and training directory\")\n",
    "\n",
    "run_training_button.on_click(on_button_clicked)\n",
    "\n",
    "widgets.VBox([widgets.HBox([widgets.VBox([summaryStep, checkpointStep, maxSteps, gpu_id]), run_training_button]), training_out])"
   ]
  },
  {
   "cell_type": "markdown",
   "metadata": {},
   "source": [
    "### Training Status"
   ]
  },
  {
   "cell_type": "markdown",
   "metadata": {},
   "source": [
    "#### Tensorboard\n",
    "TensorBoard provides us with a suite of web applications that help us to inspect and understand the TensorFlow runs and graphs. Currently, it provides five types of visualizations: scalars, images, audio, histograms, and graphs."
   ]
  },
  {
   "cell_type": "code",
   "execution_count": 6,
   "metadata": {},
   "outputs": [
    {
     "data": {
      "application/vnd.jupyter.widget-view+json": {
       "model_id": "3f56279057e64384a584bd19a3236cd3",
       "version_major": 2,
       "version_minor": 0
      },
      "text/plain": [
       "ToggleButton(value=True, description='Launch Tensorboard', layout=Layout(height='50px', width='20%'))"
      ]
     },
     "metadata": {},
     "output_type": "display_data"
    },
    {
     "name": "stdout",
     "output_type": "stream",
     "text": [
      "\u001b[1mTensorboard will launch at 6006 port. If any process is running on that port please kill it.\n",
      "\u001b[0m\n",
      "TensorBoard 1.14.0 at http://tanvi:6006/ \n",
      "Tensorboard stopped\n"
     ]
    }
   ],
   "source": [
    "import ipywidgets as widgets\n",
    "from IPython.display import display, HTML, clear_output\n",
    "import subprocess, os\n",
    "\n",
    "button_descriptions  = {False: \"Stop Tensorboard\", True: \"Launch Tensorboard\"}\n",
    "p = None\n",
    "\n",
    "def button_action(value):\n",
    "    global p\n",
    "    if train_dir is not None:\n",
    "        if button.description == \"Launch Tensorboard\":\n",
    "            owd = os.getcwd()\n",
    "            os.chdir(train_dir)\n",
    "            if [file for file in glob.glob(\"*.tfevents*\")] != []:\n",
    "                os.chdir(owd)\n",
    "                cmd = [\"tensorboard\", \"--logdir=\" + str(train_dir)]\n",
    "                p = subprocess.Popen(cmd, stdout=subprocess.PIPE, stderr=subprocess.PIPE)\n",
    "                for line in p.stderr:\n",
    "                    if line.decode(\"utf8\").find(\"(Press CTRL+C to quit)\") > 0:\n",
    "                        print(line.decode(\"utf8\").split(\"(Press CTRL+C\")[0])\n",
    "                        state = False\n",
    "                        break\n",
    "                    elif line.decode(\"utf8\").find(\"could not bind to port 6006, it was already in use\") > 0:\n",
    "                        print(\"Port 6006 already in use, kill the process running on it and try again.\")\n",
    "                        state = True\n",
    "                        break\n",
    "                    else:\n",
    "                        print(line.decode(\"utf8\"))\n",
    "                        state = True\n",
    "            else:\n",
    "                print(\"No event file found in train directory\")\n",
    "                state = True\n",
    "        else:\n",
    "            if p is not None:\n",
    "                print(\"Tensorboard stopped\")\n",
    "                p.kill()\n",
    "                state = True\n",
    "        \n",
    "        value.owner.description = button_descriptions[state]\n",
    "    else:\n",
    "        print(\"Please select train directory\")\n",
    "\n",
    "\n",
    "state = True\n",
    "\n",
    "button = widgets.ToggleButton(state, description = button_descriptions[state], layout=widgets.Layout(width='20%', height='50px'))\n",
    "button.observe(button_action, \"value\")\n",
    "\n",
    "display(button)\n",
    "print('\\033[1m' + \"Tensorboard will launch at 6006 port. If any process is running on that port please kill it.\")\n",
    "print('\\033[0m')  "
   ]
  },
  {
   "cell_type": "markdown",
   "metadata": {},
   "source": [
    "### Model Freezing\n",
    "#### Click the below button to generate the frozen pb from checkpoint and graph.pbtxt files. The pb file will easily pass through the sensAI tool. The generated pb file will be copied into the shared train directory so that it can be used in host environment."
   ]
  },
  {
   "cell_type": "code",
   "execution_count": 7,
   "metadata": {},
   "outputs": [
    {
     "data": {
      "application/vnd.jupyter.widget-view+json": {
       "model_id": "29bef2f695014ea28e45dd5864dbe376",
       "version_major": 2,
       "version_minor": 0
      },
      "text/plain": [
       "VBox(children=(Button(description='Model Freezing', layout=Layout(height='50px', width='20%'), style=ButtonSty…"
      ]
     },
     "metadata": {},
     "output_type": "display_data"
    }
   ],
   "source": [
    "import ipywidgets as widgets\n",
    "from IPython.display import display, clear_output\n",
    "import tensorflow as tf\n",
    "import os, glob\n",
    "\n",
    "freeze_button = widgets.Button(description=\"Model Freezing\", layout=widgets.Layout(width='20%', height='50px'))\n",
    "freeze_out = widgets.Output()\n",
    "\n",
    "def on_button_clicked(_):\n",
    "    with freeze_out:\n",
    "        clear_output()\n",
    "        if train_dir is not None:\n",
    "            print(\"Model freezing with the latest checkpoint\")\n",
    "            !python src/genpb.py --ckpt_dir $train_dir --freeze\n",
    "            owd = os.getcwd()\n",
    "            os.chdir(train_dir)\n",
    "            !cp *.pb $SAVE_FILE_PATH\n",
    "            os.chdir(owd)\n",
    "            print(\"Model .pb generated and copied to train directory\")\n",
    "        else:\n",
    "            print(\"Please select train directory\")\n",
    "             \n",
    "\n",
    "# linking button and function together using a button's method\n",
    "freeze_button.on_click(on_button_clicked)\n",
    "# displaying button and its output together\n",
    "widgets.VBox([freeze_button, freeze_out])"
   ]
  },
  {
   "cell_type": "code",
   "execution_count": null,
   "metadata": {},
   "outputs": [],
   "source": []
  }
 ],
 "metadata": {
  "jupytext": {
   "cell_metadata_filter": "-all",
   "main_language": "python",
   "notebook_metadata_filter": "-all"
  },
  "kernelspec": {
   "display_name": "Python 3",
   "language": "python",
   "name": "python3"
  },
  "language_info": {
   "codemirror_mode": {
    "name": "ipython",
    "version": 3
   },
   "file_extension": ".py",
   "mimetype": "text/x-python",
   "name": "python",
   "nbconvert_exporter": "python",
   "pygments_lexer": "ipython3",
   "version": "3.6.8"
  }
 },
 "nbformat": 4,
 "nbformat_minor": 2
}
